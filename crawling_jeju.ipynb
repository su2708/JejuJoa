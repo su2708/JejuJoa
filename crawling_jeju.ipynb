{
 "cells": [
  {
   "cell_type": "markdown",
   "metadata": {},
   "source": [
    "# 제주 데이터 허브에서 카드 이용 데이터 받기\n",
    "\n",
    "### 1. 동작 순서\n",
    "1. URL 및 다운로드 경로 설정\n",
    "2. 크롬 드라이버 설정\n",
    "3. 제주 데이터 허브에 접속하여 '카드 이용' 검색\n",
    "4. 검색 결과에서 로그인 없이 받을 수 있는 데이터 다운로드\n",
    "\n",
    "### 2. 데이터 설명\n",
    "1. 성별 카드 이용금액 비율.csv\n",
    "    - 2018년 1분기 ~ 2024년 3분기\n",
    "    - 연도 / 분기 / 업종 / 성별 / 연령대 / 사용량\n",
    "\n",
    "2. 시간대별 카드 이용금액 현황.csv\n",
    "    - 2018 1월 ~ 2024 8월\n",
    "    - 연도_월 / 시간 대 / 이용자 타입 / 연령대 / 사용량\n",
    "\n",
    "3. 요일별 카드 이용 건수 비교.csv\n",
    "    - 2018 1월 ~ 2024 8월\n",
    "    - 연도_월 / 요일 / 연령대 /성별 / 사용 횟수"
   ]
  },
  {
   "cell_type": "code",
   "execution_count": null,
   "metadata": {},
   "outputs": [],
   "source": [
    "!pip install selenium webdriver-manager"
   ]
  },
  {
   "cell_type": "code",
   "execution_count": 19,
   "metadata": {},
   "outputs": [],
   "source": [
    "from selenium import webdriver  # 웹드라이버 기본 모듈\n",
    "from selenium.webdriver.chrome.service import Service  # 크롬 서비스 관리 모듈\n",
    "from selenium.webdriver.chrome.options import Options  # 크롬 브라우저 옵션 설정 모듈\n",
    "from webdriver_manager.chrome import ChromeDriverManager  # 크롬드라이버 자동 관리 모듈\n",
    "from selenium.webdriver.common.by import By  # 요소 찾기 방법 지정 모듈\n",
    "from selenium.webdriver.support.ui import WebDriverWait  # 요소 대기 관리 모듈\n",
    "from selenium.webdriver.support import expected_conditions as EC  # 예상 조건 모듈\n",
    "from selenium.webdriver.common.keys import Keys  # 키보드 입력 모듈\n",
    "import time\n",
    "import os "
   ]
  },
  {
   "cell_type": "code",
   "execution_count": null,
   "metadata": {},
   "outputs": [],
   "source": [
    "# URL 및 다운로드 경로 설정\n",
    "URL = \"https://www.jejudatahub.net\"  # 제주데이터허브 url\n",
    "DOWNLOAD_PATH = os.path.abspath(\"./files/jeju\")  # 다운로드 경로\n",
    "os.makedirs(DOWNLOAD_PATH, exist_ok=True)  # 파일 저장 디렉토리 생성\n",
    "\n",
    "# 드라이버 설정\n",
    "service = Service(ChromeDriverManager().install())  # 크롬 드라이버 설정\n",
    "chrome_options = Options()\n",
    "chrome_options.add_argument('--start-maximized')  # 브라우저를 최대화해서 시작\n",
    "chrome_options.add_experimental_option(\"prefs\", {\n",
    "    \"download.default_directory\": rf\"{DOWNLOAD_PATH}\",  # 다운로드 경로 설정\n",
    "    \"download.prompt_for_download\": False,  # 다운로드 팝업 비활성화\n",
    "    \"safebrowsing.enabled\": True,  # 안전 다운로드 허용\n",
    "    \"profile.default_content_setting_values.automatic_downloads\": 1,  # 여러 파일 다운로드 허용\n",
    "})"
   ]
  },
  {
   "cell_type": "code",
   "execution_count": 25,
   "metadata": {},
   "outputs": [
    {
     "name": "stdout",
     "output_type": "stream",
     "text": [
      "파일 다운로드: 성별카드이용금액비율.csv\n",
      "파일 다운로드: 시간대별카드이용금액현황.csv\n",
      "파일 다운로드: 요일별카드이용건수비교.csv\n"
     ]
    }
   ],
   "source": [
    "driver = webdriver.Chrome(service=service, options=chrome_options)  # 크롬 브라우저 실행\n",
    "\n",
    "try:\n",
    "    # 1. 제주데이터허브 접속\n",
    "    driver.get(f\"{URL}\")\n",
    "    time.sleep(2)  # 페이지 로딩 대기\n",
    "    \n",
    "    # 2. '카드 이용' 검색어 입력\n",
    "    search_box = driver.find_element(By.CSS_SELECTOR, \"input[placeholder='키워드를 입력하세요.']\")  # 검색 창 찾기\n",
    "    \n",
    "    search_box.send_keys(\"카드 이용\")  # 검색어 입력\n",
    "    time.sleep(1)  # 잠시 대기\n",
    "    \n",
    "    search_box.send_keys(Keys.RETURN)  # Enter 키로 검색 실행\n",
    "    time.sleep(1)  # 검색 결과 로딩 대기\n",
    "    \n",
    "    # 3. 검색 결과에서 1, 2, 3번 항목의 자료 다운로드\n",
    "    data_list = [1, 2, 3]\n",
    "    for elem in data_list:\n",
    "        # 3-1. 항목 링크 찾기\n",
    "        hyperlink = driver.find_element(By.XPATH, f'//td[@class=\"cell-number\" and text()=\"{elem}\"]/following-sibling::td[@class=\"cell-subject\"]/a[@class=\"hyperlink\"]')  # 항목 링크 위치\n",
    "        driver.execute_script(\"arguments[0].click();\", hyperlink)  # 항목 링크 클릭\n",
    "        time.sleep(1)\n",
    "        \n",
    "        # 3-2. 첨부 파일 찾기\n",
    "        file = driver.find_element(By.XPATH, '//span[@class=\"pointer-span\"]')  # 파일 위치\n",
    "        driver.execute_script(\"arguments[0].click();\", file)  # 파일 다운로드\n",
    "        time.sleep(3)\n",
    "        print(f\"파일 다운로드: {file.text}\")\n",
    "        \n",
    "        # 3-3. 목록으로 나가기\n",
    "        list = driver.find_element(By.XPATH, '//div[@class=\"contents-footer\"]/a[@class=\"btn btn-outline fl\"]') # 목록 아이콘 위치\n",
    "        driver.execute_script(\"arguments[0].click();\", list)  # 목록 아이콘 클릭\n",
    "        time.sleep(1)\n",
    "    \n",
    "except Exception as e:\n",
    "    print(\"오류 발생: \", e)\n",
    "    \n",
    "finally:\n",
    "    driver.quit()  # 브라우저 닫기"
   ]
  }
 ],
 "metadata": {
  "kernelspec": {
   "display_name": "group10",
   "language": "python",
   "name": "python3"
  },
  "language_info": {
   "codemirror_mode": {
    "name": "ipython",
    "version": 3
   },
   "file_extension": ".py",
   "mimetype": "text/x-python",
   "name": "python",
   "nbconvert_exporter": "python",
   "pygments_lexer": "ipython3",
   "version": "3.10.15"
  }
 },
 "nbformat": 4,
 "nbformat_minor": 2
}
